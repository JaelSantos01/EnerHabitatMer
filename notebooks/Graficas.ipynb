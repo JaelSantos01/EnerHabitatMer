{
 "cells": [
  {
   "cell_type": "code",
   "execution_count": 1,
   "id": "9071edd6-5b1d-419d-a5df-de004e0f1c23",
   "metadata": {},
   "outputs": [],
   "source": [
    "import matplotlib.pyplot as plt\n",
    "import mercury as mr\n",
    "import numpy as np\n",
    "import pandas as pd\n",
    "import seaborn as sns\n",
    "import configparser\n",
    "from enerhabitat import funciones as eh"
   ]
  },
  {
   "cell_type": "code",
   "execution_count": 5,
   "id": "48d2957c-3d5e-4033-8008-ef5a7838d489",
   "metadata": {},
   "outputs": [
    {
     "data": {
      "application/mercury+json": "{\n    \"widget\": \"Select\",\n    \"value\": \"Temixco\",\n    \"choices\": [\n        \"Temixco\",\n        \"Cuautla\"\n    ],\n    \"label\": \"Lugar\",\n    \"model_id\": \"4cf2954611824f1dac77121f5579e04b\",\n    \"code_uid\": \"Select.0.50.104.11-rand014b8931\",\n    \"url_key\": \"\",\n    \"disabled\": false,\n    \"hidden\": false\n}",
      "application/vnd.jupyter.widget-view+json": {
       "model_id": "4cf2954611824f1dac77121f5579e04b",
       "version_major": 2,
       "version_minor": 0
      },
      "text/plain": [
       "mercury.Select"
      ]
     },
     "metadata": {},
     "output_type": "display_data"
    },
    {
     "data": {
      "application/mercury+json": "{\n    \"widget\": \"Select\",\n    \"value\": \"Enero\",\n    \"choices\": [\n        \"Enero\",\n        \"Febrero\",\n        \"Marzo\",\n        \"Abril\",\n        \"Mayo\",\n        \"Junio\",\n        \"Julio\",\n        \"Agosto\",\n        \"Septiembre\",\n        \"Octubre\",\n        \"Noviembre\",\n        \"Diciembre\"\n    ],\n    \"label\": \"Periodo\",\n    \"model_id\": \"939e2fb6250e4cdeadae5383d4cd8378\",\n    \"code_uid\": \"Select.0.50.104.30-rand600eea22\",\n    \"url_key\": \"\",\n    \"disabled\": false,\n    \"hidden\": false\n}",
      "application/vnd.jupyter.widget-view+json": {
       "model_id": "939e2fb6250e4cdeadae5383d4cd8378",
       "version_major": 2,
       "version_minor": 0
      },
      "text/plain": [
       "mercury.Select"
      ]
     },
     "metadata": {},
     "output_type": "display_data"
    },
    {
     "data": {
      "application/mercury+json": "{\n    \"widget\": \"Select\",\n    \"value\": \"Con aire acondicionado\",\n    \"choices\": [\n        \"Con aire acondicionado\",\n        \"Sin aire acondicionado\"\n    ],\n    \"label\": \"Condicion\",\n    \"model_id\": \"87b96a12143249bca4ee6ad5a43e2b8b\",\n    \"code_uid\": \"Select.0.50.104.36-rand41a080df\",\n    \"url_key\": \"\",\n    \"disabled\": false,\n    \"hidden\": false\n}",
      "application/vnd.jupyter.widget-view+json": {
       "model_id": "87b96a12143249bca4ee6ad5a43e2b8b",
       "version_major": 2,
       "version_minor": 0
      },
      "text/plain": [
       "mercury.Select"
      ]
     },
     "metadata": {},
     "output_type": "display_data"
    }
   ],
   "source": [
    "config = configparser.ConfigParser()\n",
    "config.read(\"lugares.ini\")\n",
    "lugares = config.sections()\n",
    "\n",
    "f = \"../data/Casablanca.epw\"\n",
    "f_cuer=\"..data/MEX_MOR_Cuernavaca.epw\"\n",
    "f_zaca= \"..data/MEX_MOR_Zacatepec.epw\"\n",
    "\n",
    "dia = 15\n",
    "\n",
    "lugar = mr.Select(label='Lugar',\n",
    "                    value=lugares[0],\n",
    "                    choices=lugares)\n",
    "\n",
    "meses_dict = {\n",
    "    \"Enero\": \"01\",\n",
    "    \"Febrero\": \"02\",\n",
    "    \"Marzo\": \"03\",\n",
    "    \"Abril\": \"04\",\n",
    "    \"Mayo\": \"05\",\n",
    "    \"Junio\": \"06\",\n",
    "    \"Julio\": \"07\",\n",
    "    \"Agosto\": \"08\",\n",
    "    \"Septiembre\": \"09\",\n",
    "    \"Octubre\": \"10\",\n",
    "    \"Noviembre\": \"11\",\n",
    "    \"Diciembre\": \"12\",\n",
    "}\n",
    "\n",
    "periodo = mr.Select(label='Periodo', \n",
    "                    value=meses_dict[\"Enero\"],\n",
    "                    choices = list(meses_dict.keys()))\n",
    "\n",
    "conditions = ['Con aire acondicionado', 'Sin aire acondicionado']\n",
    "\n",
    "condition = mr.Select(label='Condicion', \n",
    "                    value=conditions[0],\n",
    "                    choices = conditions)\n",
    "\n",
    "# Obtener los datos seleccionados por el usuario\n",
    "selected_place = lugar\n",
    "selected_period = periodo\n",
    "\n",
    "\n",
    "# Crear el gráfico de líneas\n",
    "#plt.title(f\"{periodo.value}\")\n",
    "\n",
    "# Crear el gráfico de líneas\n",
    "def grafica_mes():\n",
    "        print(selected_place)\n",
    "        if \"Cuernavaca\" in lugar: \n",
    "            epw = read_epw(f_cuer, year=2024, alias=True)\n",
    "            mes= selected_period\n",
    "            fig, ax = plt.subplots(2, figsize=(10, 3), sharex=True)\n",
    "            f1 = parse(f\"2024-{mes}-{dia}\")\n",
    "            f2 = f1 + pd.Timedelta(\"7D\")\n",
    "\n",
    "            ax[0].plot(epw.To, label=\"Ta\")\n",
    "            ax[1].plot(epw.Ig, label=\"Ig\")\n",
    "            ax[1].plot(epw.Ib, label=\"Ib\")\n",
    "            ax[1].plot(epw.Id, label=\"Id\")\n",
    "\n",
    "            ax[0].set_xlim(f1, f2)\n",
    "            ax[0].legend()\n",
    "            ax[1].legend()\n",
    "        elif \"Zacatepec\" in place: \n",
    "            epw = read_epw(f_zaca, year=2024, alias=True)\n",
    "            mes= selected_period\n",
    "            fig, ax = plt.subplots(2, figsize=(10, 3), sharex=True)\n",
    "            f1 = parse(f\"2024-{mes}-{dia}\")\n",
    "            f2 = f1 + pd.Timedelta(\"7D\")\n",
    "\n",
    "            ax[0].plot(epw.To, label=\"Ta\")\n",
    "            ax[1].plot(epw.Ig, label=\"Ig\")\n",
    "            ax[1].plot(epw.Ib, label=\"Ib\")\n",
    "            ax[1].plot(epw.Id, label=\"Id\")\n",
    "\n",
    "            ax[0].set_xlim(f1, f2)\n",
    "            ax[0].legend()\n",
    "            ax[1].legend()\n",
    "        else:\n",
    "            epw = read_epw(ruta, year=2024, alias=True)\n",
    "            mes = meses_dict[input.periodo()]\n",
    "            fig, ax = plt.subplots(2, figsize=(10, 3), sharex=True)\n",
    "            f1 = parse(f\"2024-{mes}-{dia}\")\n",
    "            f2 = f1 + pd.Timedelta(\"7D\")\n",
    "\n",
    "            ax[0].plot(epw.To, label=\"Ta\")\n",
    "            ax[1].plot(epw.Ig, label=\"Ig\")\n",
    "            ax[1].plot(epw.Ib, label=\"Ib\")\n",
    "            ax[1].plot(epw.Id, label=\"Id\")\n",
    "\n",
    "            ax[0].set_xlim(f1, f2)\n",
    "            ax[0].legend()\n",
    "            ax[1].legend()\n",
    "        return fig\n"
   ]
  },
  {
   "cell_type": "code",
   "execution_count": null,
   "id": "23c7b83d-f031-4828-9bb1-3d4aa739f40b",
   "metadata": {},
   "outputs": [],
   "source": []
  }
 ],
 "metadata": {
  "kernelspec": {
   "display_name": "Python 3 (ipykernel)",
   "language": "python",
   "name": "python3"
  },
  "language_info": {
   "codemirror_mode": {
    "name": "ipython",
    "version": 3
   },
   "file_extension": ".py",
   "mimetype": "text/x-python",
   "name": "python",
   "nbconvert_exporter": "python",
   "pygments_lexer": "ipython3",
   "version": "3.12.3"
  }
 },
 "nbformat": 4,
 "nbformat_minor": 5
}
