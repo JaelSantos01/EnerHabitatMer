{
 "cells": [
  {
   "cell_type": "code",
   "execution_count": null,
   "id": "9071edd6-5b1d-419d-a5df-de004e0f1c23",
   "metadata": {},
   "outputs": [],
   "source": [
    "import matplotlib.pyplot as plt\n",
    "import mercury as mr\n",
    "import numpy as np\n",
    "import pandas as pd\n",
    "import seaborn as sns\n",
    "import configparser\n",
    "from enerhabitat import funciones as eh"
   ]
  },
  {
   "cell_type": "code",
   "execution_count": null,
   "id": "48d2957c-3d5e-4033-8008-ef5a7838d489",
   "metadata": {},
   "outputs": [],
   "source": [
    "config = configparser.ConfigParser()\n",
    "config.read(\"lugares.ini\")\n",
    "lugares = config.sections()\n",
    "\n",
    "f = \"../data/Casablanca.epw\"\n",
    "dia = 15\n",
    "\n",
    "\n",
    "\n",
    "lugar = mr.Select(label='Lugar',\n",
    "                    value=lugares[0],\n",
    "                    choices=lugares)\n",
    "\n",
    "meses_dict = {\n",
    "    \"Enero\": \"01\",\n",
    "    \"Febrero\": \"02\",\n",
    "    \"Marzo\": \"03\",\n",
    "    \"Abril\": \"04\",\n",
    "    \"Mayo\": \"05\",\n",
    "    \"Junio\": \"06\",\n",
    "    \"Julio\": \"07\",\n",
    "    \"Agosto\": \"08\",\n",
    "    \"Septiembre\": \"09\",\n",
    "    \"Octubre\": \"10\",\n",
    "    \"Noviembre\": \"11\",\n",
    "    \"Diciembre\": \"12\",\n",
    "}\n",
    "\n",
    "periodo = mr.Select(label='Periodo', \n",
    "                    value=periodos[0],\n",
    "                    choices = list(meses_dict.keys()))\n",
    "\n",
    "conditions = ['Con aire acondicionado', 'Sin aire acondicionado']\n",
    "\n",
    "condition = mr.Select(label='Condicion', \n",
    "                    value=conditions[0],\n",
    "                    choices = conditions)\n",
    "\n",
    "# Obtener los datos seleccionados por el usuario\n",
    "selected_place = lugares\n",
    "selected_period = periodos\n",
    "\n",
    "\n",
    "# Crear el gráfico de líneas\n",
    "plt.figure(figsize=(10, 6))\n",
    "plt.plot(df[\"tiempo\"],df[\"temperatura\"])\n",
    "plt.title(f\"{periodo.value}\")\n",
    "plt.xlabel(\"Tiempo [h]\")\n",
    "plt.ylabel(\"Temperatura [°C]\")\n",
    "plt.show()  # Mostrar el gráfico"
   ]
  },
  {
   "cell_type": "code",
   "execution_count": null,
   "id": "23c7b83d-f031-4828-9bb1-3d4aa739f40b",
   "metadata": {},
   "outputs": [],
   "source": []
  }
 ],
 "metadata": {
  "kernelspec": {
   "display_name": "Python 3 (ipykernel)",
   "language": "python",
   "name": "python3"
  },
  "language_info": {
   "codemirror_mode": {
    "name": "ipython",
    "version": 3
   },
   "file_extension": ".py",
   "mimetype": "text/x-python",
   "name": "python",
   "nbconvert_exporter": "python",
   "pygments_lexer": "ipython3",
   "version": "3.12.3"
  }
 },
 "nbformat": 4,
 "nbformat_minor": 5
}
