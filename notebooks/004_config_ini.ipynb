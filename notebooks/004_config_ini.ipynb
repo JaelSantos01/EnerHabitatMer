{
 "cells": [
  {
   "cell_type": "code",
   "execution_count": 10,
   "id": "0f3ac5c6-9ab2-45f1-a403-834092b476af",
   "metadata": {},
   "outputs": [],
   "source": [
    "import configparser\n"
   ]
  },
  {
   "cell_type": "code",
   "execution_count": 21,
   "id": "1146728f-c567-4bba-8cc2-89275df95b5f",
   "metadata": {},
   "outputs": [
    {
     "data": {
      "text/plain": [
       "{'lat': '18.5', 'lon': '99.5', 'f_epw': 'data/Casablanca.epw'}"
      ]
     },
     "execution_count": 21,
     "metadata": {},
     "output_type": "execute_result"
    }
   ],
   "source": [
    "config = configparser.ConfigParser()\n",
    "config.read(\"lugares.ini\")\n",
    "section = config[\"Temixco\"]\n",
    "out = {}\n",
    "for i in section.items():\n",
    "    out[i[0]] = i[1]\n",
    "out"
   ]
  },
  {
   "cell_type": "code",
   "execution_count": 26,
   "id": "133b3b6d-5303-4bb4-937f-14cbcb4037f8",
   "metadata": {},
   "outputs": [
    {
     "name": "stdout",
     "output_type": "stream",
     "text": [
      "DEFAULT\n",
      "Temixco\n",
      "Cuautla\n"
     ]
    }
   ],
   "source": [
    "for item in config.items():\n",
    "    print(item[0])"
   ]
  },
  {
   "cell_type": "code",
   "execution_count": 27,
   "id": "a945c329-e878-4d45-bc0c-0114cb48b700",
   "metadata": {},
   "outputs": [
    {
     "data": {
      "text/plain": [
       "['Temixco', 'Cuautla']"
      ]
     },
     "execution_count": 27,
     "metadata": {},
     "output_type": "execute_result"
    }
   ],
   "source": [
    "lugares = config.sections()"
   ]
  }
 ],
 "metadata": {
  "kernelspec": {
   "display_name": "Python 3 (ipykernel)",
   "language": "python",
   "name": "python3"
  },
  "language_info": {
   "codemirror_mode": {
    "name": "ipython",
    "version": 3
   },
   "file_extension": ".py",
   "mimetype": "text/x-python",
   "name": "python",
   "nbconvert_exporter": "python",
   "pygments_lexer": "ipython3",
   "version": "3.10.12"
  }
 },
 "nbformat": 4,
 "nbformat_minor": 5
}
