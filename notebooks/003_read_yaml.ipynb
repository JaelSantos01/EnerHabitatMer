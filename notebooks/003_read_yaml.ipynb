{
 "cells": [
  {
   "cell_type": "code",
   "execution_count": 2,
   "id": "f41794d4-800d-4faf-b019-1036fb7d0441",
   "metadata": {},
   "outputs": [],
   "source": [
    "import yaml"
   ]
  },
  {
   "cell_type": "code",
   "execution_count": 8,
   "id": "f318d9ee-f8cb-4b55-8dc1-b18e5b8b22f2",
   "metadata": {},
   "outputs": [],
   "source": [
    "lugares = {\n",
    "    \"Temixco\":{\n",
    "        \"f_epw\":\"../data/Casablanca.epw\",\n",
    "        \"lat\":18.5,\n",
    "        \"lon\":99.5,\n",
    "        \"pais\":\"Mx\"\n",
    "    },\n",
    "    \"Cuautla\":{\n",
    "        \"f_epw\":\"../data/Cuautla.epw\",\n",
    "        \"lat\":18.1,\n",
    "        \"lon\":99.3,\n",
    "        \"pais\":\"Mx\"\n",
    "    }\n",
    "          }\n"
   ]
  },
  {
   "cell_type": "code",
   "execution_count": 20,
   "id": "479fecc2-8bab-44bd-b8c7-d5f2c3969475",
   "metadata": {},
   "outputs": [
    {
     "data": {
      "text/plain": [
       "dict_keys(['Temixco', 'Cuautla'])"
      ]
     },
     "execution_count": 20,
     "metadata": {},
     "output_type": "execute_result"
    }
   ],
   "source": [
    "lugares.keys()"
   ]
  },
  {
   "cell_type": "code",
   "execution_count": 10,
   "id": "7812e464-90cf-4796-bb86-dc9d1aa55b48",
   "metadata": {
    "scrolled": true
   },
   "outputs": [
    {
     "data": {
      "text/plain": [
       "'../data/Casablanca.epw'"
      ]
     },
     "execution_count": 10,
     "metadata": {},
     "output_type": "execute_result"
    }
   ],
   "source": [
    "lugares[\"Temixco\"][\"f_epw\"]"
   ]
  },
  {
   "cell_type": "code",
   "execution_count": 4,
   "id": "c723fbef-94cb-4199-a38e-99e36931e065",
   "metadata": {},
   "outputs": [
    {
     "name": "stdout",
     "output_type": "stream",
     "text": [
      "a: 1\n",
      "b:\n",
      "  c: 3\n",
      "  d: 4\n",
      "\n"
     ]
    },
    {
     "name": "stderr",
     "output_type": "stream",
     "text": [
      "/tmp/ipykernel_24002/1725745298.py:7: YAMLLoadWarning: calling yaml.load() without Loader=... is deprecated, as the default Loader is unsafe. Please read https://msg.pyyaml.org/load for full details.\n",
      "  print(yaml.dump(yaml.load(configuracion)))\n"
     ]
    }
   ],
   "source": [
    "configuracion = \"\"\"\n",
    "  a: 1\n",
    "  b:\n",
    "    c: 3\n",
    "    d: 4\n",
    "\"\"\"\n",
    "print(yaml.dump(yaml.load(configuracion)))"
   ]
  }
 ],
 "metadata": {
  "kernelspec": {
   "display_name": "Python 3 (ipykernel)",
   "language": "python",
   "name": "python3"
  },
  "language_info": {
   "codemirror_mode": {
    "name": "ipython",
    "version": 3
   },
   "file_extension": ".py",
   "mimetype": "text/x-python",
   "name": "python",
   "nbconvert_exporter": "python",
   "pygments_lexer": "ipython3",
   "version": "3.10.12"
  }
 },
 "nbformat": 4,
 "nbformat_minor": 5
}
